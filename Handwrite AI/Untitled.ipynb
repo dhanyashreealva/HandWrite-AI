{
 "cells": [
  {
   "cell_type": "code",
   "execution_count": 2,
   "id": "ddf36435-9dae-4dc2-a29d-826760c8a0ea",
   "metadata": {},
   "outputs": [
    {
     "name": "stdout",
     "output_type": "stream",
     "text": [
      "Requirement already satisfied: pyscreenshot in c:\\users\\dhanyashree\\anaconda3\\lib\\site-packages (3.1)\n",
      "Requirement already satisfied: EasyProcess in c:\\users\\dhanyashree\\anaconda3\\lib\\site-packages (from pyscreenshot) (1.1)\n",
      "Requirement already satisfied: entrypoint2 in c:\\users\\dhanyashree\\anaconda3\\lib\\site-packages (from pyscreenshot) (1.1)\n",
      "Requirement already satisfied: mss in c:\\users\\dhanyashree\\anaconda3\\lib\\site-packages (from pyscreenshot) (10.0.0)\n"
     ]
    },
    {
     "name": "stderr",
     "output_type": "stream",
     "text": [
      "\n",
      "[notice] A new release of pip is available: 24.3.1 -> 25.2\n",
      "[notice] To update, run: python.exe -m pip install --upgrade pip\n"
     ]
    }
   ],
   "source": [
    "!pip install pyscreenshot\n",
    "!\n",
    "import pyscreenshot as ImageGrab\n",
    "import time"
   ]
  },
  {
   "cell_type": "code",
   "execution_count": null,
   "id": "8a48fb97-d22d-466d-8423-b96b1e327aa9",
   "metadata": {},
   "outputs": [
    {
     "name": "stdout",
     "output_type": "stream",
     "text": [
      "saved..... 60\n",
      "Clear screen now and redraw  now....\n",
      "saved..... 61\n",
      "Clear screen now and redraw  now....\n",
      "saved..... 62\n",
      "Clear screen now and redraw  now....\n",
      "saved..... 63\n",
      "Clear screen now and redraw  now....\n",
      "saved..... 64\n",
      "Clear screen now and redraw  now....\n",
      "saved..... 65\n",
      "Clear screen now and redraw  now....\n",
      "saved..... 66\n",
      "Clear screen now and redraw  now....\n",
      "saved..... 67\n",
      "Clear screen now and redraw  now....\n",
      "saved..... 68\n",
      "Clear screen now and redraw  now....\n",
      "saved..... 69\n",
      "Clear screen now and redraw  now....\n",
      "saved..... 70\n",
      "Clear screen now and redraw  now....\n",
      "saved..... 71\n",
      "Clear screen now and redraw  now....\n",
      "saved..... 72\n",
      "Clear screen now and redraw  now....\n",
      "saved..... 73\n",
      "Clear screen now and redraw  now....\n",
      "saved..... 74\n",
      "Clear screen now and redraw  now....\n",
      "saved..... 75\n",
      "Clear screen now and redraw  now....\n",
      "saved..... 76\n",
      "Clear screen now and redraw  now....\n",
      "saved..... 77\n",
      "Clear screen now and redraw  now....\n",
      "saved..... 78\n",
      "Clear screen now and redraw  now....\n",
      "saved..... 79\n",
      "Clear screen now and redraw  now....\n",
      "saved..... 80\n",
      "Clear screen now and redraw  now....\n",
      "saved..... 81\n",
      "Clear screen now and redraw  now....\n",
      "saved..... 82\n",
      "Clear screen now and redraw  now....\n",
      "saved..... 83\n",
      "Clear screen now and redraw  now....\n",
      "saved..... 84\n",
      "Clear screen now and redraw  now....\n",
      "saved..... 85\n",
      "Clear screen now and redraw  now....\n",
      "saved..... 86\n",
      "Clear screen now and redraw  now....\n",
      "saved..... 87\n",
      "Clear screen now and redraw  now....\n",
      "saved..... 88\n",
      "Clear screen now and redraw  now....\n",
      "saved..... 89\n",
      "Clear screen now and redraw  now....\n",
      "saved..... 90\n",
      "Clear screen now and redraw  now....\n",
      "saved..... 91\n",
      "Clear screen now and redraw  now....\n",
      "saved..... 92\n",
      "Clear screen now and redraw  now....\n",
      "saved..... 93\n",
      "Clear screen now and redraw  now....\n"
     ]
    }
   ],
   "source": [
    "images_folder=\"Captured_images/5/\"\n",
    "for i in range(60,100):\n",
    "    time.sleep(10)\n",
    "    im=ImageGrab.grab(bbox=(400,350,800,800))\n",
    "    print(\"saved.....\",i)\n",
    "    im.save(images_folder+str(i)+'.png')\n",
    "    print(\"Clear screen now and redraw  now....\")"
   ]
  },
  {
   "cell_type": "code",
   "execution_count": null,
   "id": "beddd473-8744-4e86-9fae-93ce86e0cf27",
   "metadata": {},
   "outputs": [],
   "source": []
  }
 ],
 "metadata": {
  "kernelspec": {
   "display_name": "Python 3 (ipykernel)",
   "language": "python",
   "name": "python3"
  },
  "language_info": {
   "codemirror_mode": {
    "name": "ipython",
    "version": 3
   },
   "file_extension": ".py",
   "mimetype": "text/x-python",
   "name": "python",
   "nbconvert_exporter": "python",
   "pygments_lexer": "ipython3",
   "version": "3.11.7"
  }
 },
 "nbformat": 4,
 "nbformat_minor": 5
}
