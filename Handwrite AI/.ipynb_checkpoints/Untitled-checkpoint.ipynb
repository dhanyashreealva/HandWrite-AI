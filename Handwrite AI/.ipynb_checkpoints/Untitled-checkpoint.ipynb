{
 "cells": [
  {
   "cell_type": "code",
   "execution_count": 4,
   "id": "ddf36435-9dae-4dc2-a29d-826760c8a0ea",
   "metadata": {},
   "outputs": [
    {
     "name": "stdout",
     "output_type": "stream",
     "text": [
      "Requirement already satisfied: pyscreenshot in c:\\users\\dhanyashree\\appdata\\local\\programs\\python\\python313\\lib\\site-packages (3.1)\n",
      "Requirement already satisfied: EasyProcess in c:\\users\\dhanyashree\\appdata\\local\\programs\\python\\python313\\lib\\site-packages (from pyscreenshot) (1.1)\n",
      "Requirement already satisfied: entrypoint2 in c:\\users\\dhanyashree\\appdata\\local\\programs\\python\\python313\\lib\\site-packages (from pyscreenshot) (1.1)\n",
      "Requirement already satisfied: mss in c:\\users\\dhanyashree\\appdata\\local\\programs\\python\\python313\\lib\\site-packages (from pyscreenshot) (10.0.0)\n"
     ]
    },
    {
     "name": "stderr",
     "output_type": "stream",
     "text": [
      "WARNING: Ignoring invalid distribution ~ip (C:\\Users\\Dhanyashree\\AppData\\Local\\Programs\\Python\\Python313\\Lib\\site-packages)\n",
      "WARNING: Ignoring invalid distribution ~ip (C:\\Users\\Dhanyashree\\AppData\\Local\\Programs\\Python\\Python313\\Lib\\site-packages)\n",
      "WARNING: Ignoring invalid distribution ~ip (C:\\Users\\Dhanyashree\\AppData\\Local\\Programs\\Python\\Python313\\Lib\\site-packages)\n",
      "\n",
      "[notice] A new release of pip is available: 25.0.1 -> 25.2\n",
      "[notice] To update, run: python.exe -m pip install --upgrade pip\n"
     ]
    },
    {
     "name": "stdout",
     "output_type": "stream",
     "text": [
      "Collecting pillow\n",
      "  Downloading pillow-11.3.0-cp313-cp313-win_amd64.whl.metadata (9.2 kB)\n",
      "Downloading pillow-11.3.0-cp313-cp313-win_amd64.whl (7.0 MB)\n",
      "   ---------------------------------------- 0.0/7.0 MB ? eta -:--:--\n",
      "   ---------------------------------------- 0.0/7.0 MB ? eta -:--:--\n",
      "   - -------------------------------------- 0.3/7.0 MB ? eta -:--:--\n",
      "   ---- ----------------------------------- 0.8/7.0 MB 1.4 MB/s eta 0:00:05\n",
      "   ------ --------------------------------- 1.0/7.0 MB 1.6 MB/s eta 0:00:04\n",
      "   --------- ------------------------------ 1.6/7.0 MB 1.7 MB/s eta 0:00:04\n",
      "   ---------- ----------------------------- 1.8/7.0 MB 1.7 MB/s eta 0:00:03\n",
      "   --------------- ------------------------ 2.6/7.0 MB 2.0 MB/s eta 0:00:03\n",
      "   ------------------ --------------------- 3.1/7.0 MB 2.1 MB/s eta 0:00:02\n",
      "   ------------------- -------------------- 3.4/7.0 MB 2.0 MB/s eta 0:00:02\n",
      "   ---------------------- ----------------- 3.9/7.0 MB 2.1 MB/s eta 0:00:02\n",
      "   ------------------------ --------------- 4.2/7.0 MB 2.1 MB/s eta 0:00:02\n",
      "   --------------------------- ------------ 4.7/7.0 MB 2.0 MB/s eta 0:00:02\n",
      "   ------------------------------- -------- 5.5/7.0 MB 2.2 MB/s eta 0:00:01\n",
      "   ---------------------------------- ----- 6.0/7.0 MB 2.2 MB/s eta 0:00:01\n",
      "   ---------------------------------------- 7.0/7.0 MB 2.4 MB/s eta 0:00:00\n",
      "Installing collected packages: pillow\n",
      "Successfully installed pillow-11.3.0\n"
     ]
    },
    {
     "name": "stderr",
     "output_type": "stream",
     "text": [
      "WARNING: Ignoring invalid distribution ~ip (C:\\Users\\Dhanyashree\\AppData\\Local\\Programs\\Python\\Python313\\Lib\\site-packages)\n",
      "WARNING: Ignoring invalid distribution ~ip (C:\\Users\\Dhanyashree\\AppData\\Local\\Programs\\Python\\Python313\\Lib\\site-packages)\n",
      "WARNING: Ignoring invalid distribution ~ip (C:\\Users\\Dhanyashree\\AppData\\Local\\Programs\\Python\\Python313\\Lib\\site-packages)\n",
      "\n",
      "[notice] A new release of pip is available: 25.0.1 -> 25.2\n",
      "[notice] To update, run: python.exe -m pip install --upgrade pip\n"
     ]
    }
   ],
   "source": [
    "!pip install pyscreenshot\n",
    "!\n",
    "import pyscreenshot as ImageGrab\n",
    "import time"
   ]
  },
  {
   "cell_type": "code",
   "execution_count": 9,
   "id": "8a48fb97-d22d-466d-8423-b96b1e327aa9",
   "metadata": {},
   "outputs": [
    {
     "name": "stdout",
     "output_type": "stream",
     "text": [
      "saved..... 0\n",
      "Clear screen now and redraw  now....\n",
      "saved..... 1\n",
      "Clear screen now and redraw  now....\n",
      "saved..... 2\n",
      "Clear screen now and redraw  now....\n",
      "saved..... 3\n",
      "Clear screen now and redraw  now....\n",
      "saved..... 4\n",
      "Clear screen now and redraw  now....\n"
     ]
    }
   ],
   "source": [
    "images_folder=\"Captured_images/0/\"\n",
    "for i in range(0,5):\n",
    "    time.sleep(8)\n",
    "    im=ImageGrab.grab(bbox=(500,350,900,750))\n",
    "    print(\"saved.....\",i)\n",
    "    im.save(images_folder+str(i)+'.png')\n",
    "    print(\"Clear screen now and redraw  now....\")"
   ]
  },
  {
   "cell_type": "code",
   "execution_count": null,
   "id": "beddd473-8744-4e86-9fae-93ce86e0cf27",
   "metadata": {},
   "outputs": [],
   "source": []
  }
 ],
 "metadata": {
  "kernelspec": {
   "display_name": "Python 3 (ipykernel)",
   "language": "python",
   "name": "python3"
  },
  "language_info": {
   "codemirror_mode": {
    "name": "ipython",
    "version": 3
   },
   "file_extension": ".py",
   "mimetype": "text/x-python",
   "name": "python",
   "nbconvert_exporter": "python",
   "pygments_lexer": "ipython3",
   "version": "3.13.2"
  }
 },
 "nbformat": 4,
 "nbformat_minor": 5
}
